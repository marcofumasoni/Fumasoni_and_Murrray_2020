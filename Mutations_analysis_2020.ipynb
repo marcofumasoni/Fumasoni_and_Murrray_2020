{
 "cells": [
  {
   "cell_type": "code",
   "execution_count": 53,
   "metadata": {
    "collapsed": true
   },
   "outputs": [],
   "source": [
    "# Mutations_analysis by Marco Fumasoni\n",
    "\n",
    "# This code has been written to analyze the list of mutations obtained from mutantanalysis by John Koschwanez (https://github.com/koschwanez/mutantanalysis)\n",
    "# The script identify putative adaptive mutations when a gene is mutated more frequently than expected by chance across parallel\n",
    "# and independent populations. The script run the same analysis in a list of mutations obtained from evolved wt, to remove from the \n",
    "# candidate adaptive genes, the one that are likely due to experimental conditions\n",
    "\n",
    "\n",
    "# NOTE\n",
    "# The code is made available for transparency reasons. At present, it is not intended to be readily usable on different datasets. \n",
    "# Also, it was not annotated and compiled to be user-friendly. Please, contact me privately for any inquiry related to the code usage.\n",
    "# I will maintain this code with improved versions as soon as they are developed."
   ]
  },
  {
   "cell_type": "code",
   "execution_count": 1,
   "metadata": {
    "collapsed": false
   },
   "outputs": [
    {
     "name": "stdout",
     "output_type": "stream",
     "text": [
      "Populating the interactive namespace from numpy and matplotlib\n"
     ]
    }
   ],
   "source": [
    "%pylab inline"
   ]
  },
  {
   "cell_type": "code",
   "execution_count": 2,
   "metadata": {
    "collapsed": true
   },
   "outputs": [],
   "source": [
    "import seaborn as sns\n",
    "import xlsxwriter\n",
    "import csv\n",
    "from scipy.stats import nanmean\n",
    "from scipy.special import gammaincc\n",
    "from scipy.special import factorial"
   ]
  },
  {
   "cell_type": "code",
   "execution_count": 3,
   "metadata": {
    "collapsed": false
   },
   "outputs": [],
   "source": [
    "sns.set_context('paper', font_scale=2.2)"
   ]
  },
  {
   "cell_type": "code",
   "execution_count": 4,
   "metadata": {
    "collapsed": false
   },
   "outputs": [],
   "source": [
    "sns.set_style('ticks')"
   ]
  },
  {
   "cell_type": "code",
   "execution_count": 5,
   "metadata": {
    "collapsed": true
   },
   "outputs": [],
   "source": [
    "import pandas as pd"
   ]
  },
  {
   "cell_type": "code",
   "execution_count": 6,
   "metadata": {
    "collapsed": true
   },
   "outputs": [],
   "source": [
    "from collections import Counter"
   ]
  },
  {
   "cell_type": "code",
   "execution_count": 7,
   "metadata": {
    "collapsed": true
   },
   "outputs": [],
   "source": [
    "def hits_count(population, clones, wt, genotype):\n",
    "    # Import the list of yeast ORFs with size and description and merge it with the list of mutations\n",
    "    ORFs = pd.read_csv('ver_ORFs.tsv', sep='\\t')\n",
    "    pop= pd.merge(population, ORFs, on='sgdid')\n",
    "    clo= pd.merge(clones, ORFs, on='sgdid')\n",
    "    pop2=pop[['sys_name','sgdid','gene_name','size','chr_num','position','sample_name','snp_indel','ref','read','fraction','tot_reads','mutation_type','origin','description']]\n",
    "    clo2=clo[['sys_name','sgdid','gene_name','size','chr_num','position','sample_name','snp_indel','ref','read','fraction','tot_reads','mutation_type','origin','description']]\n",
    "\n",
    "    # Save the mutations to files before applying any other filter\n",
    "    pop2.to_csv('output/'+genotype+'populations.csv')\n",
    "    clo2.to_csv('output/'+genotype+'clones.csv')\n",
    "\n",
    "    # change the name of the sample in 'clone'\n",
    "    clo2.rename(columns = {'sample_name':'clone'}, inplace = True) \n",
    "    # put the fraction to 0\n",
    "    clo2['fraction'] = 'NaN'\n",
    "    # remove the secon part of the sample_name and create a population column so that after we can count only one mutation per population\n",
    "    clo2['sample_name'] = clo2.clone.str.split('_').str[0]\n",
    "    clo2['sample_name'] = clo2['sample_name'] + '_'\n",
    "\n",
    "    # Join the population dataset with the clone dataset\n",
    "    frames = [pop2, clo2]\n",
    "    popclo = pd.concat(frames, ignore_index=True)\n",
    "\n",
    "    # In case one gene has been mutated multiple times in the same POPULATION consider only one hit\n",
    "    desired_rows = []\n",
    "    for name, cur_data in popclo.groupby(['sys_name', 'sample_name']):\n",
    "        cur_row = cur_data.iloc[0]\n",
    "        desired_rows.append(cur_row)\n",
    "    popclo_s = pd.DataFrame(desired_rows)\n",
    "\n",
    "    # COUNT HOW MANY POPULATIONS HAVE A MUTATION IN A GIVEN GENE\n",
    "\n",
    "    #Count the number of hits per genes and order them from highest to lowest\n",
    "    counter_pop=Counter(popclo_s.sys_name) \n",
    "    genes = pd.DataFrame.from_dict(counter_pop, orient='index').reset_index() \n",
    "    genes = genes.rename(columns={'index':'sys_name', 0:'pop_hits'}) \n",
    "    genes=genes.dropna()\n",
    "\n",
    "    #Merge the counter list with the original list\n",
    "    list1= pd.merge(popclo_s, genes, on='sys_name', how='left')\n",
    "\n",
    "    desired_rows = []\n",
    "    for name, cur_data in list1.groupby(['sys_name', 'pop_hits']):\n",
    "        cur_row = cur_data.iloc[0]\n",
    "        desired_rows.append(cur_row)\n",
    "    popclo_s_h = pd.DataFrame(desired_rows)\n",
    "    hits=popclo_s_h[['sys_name','sgdid','gene_name','size','pop_hits','origin','description']]\n",
    "    hits= hits.sort_values(by='pop_hits', ascending=0)\n",
    "    hits.to_csv('output/' + genotype + 'pop_hits.csv')\n",
    "\n",
    "    # COUNT HOW MANY INDEPENDENT HITS HAVE BEEN OBTAINED (taking into account diferent mutations within the same population)\n",
    "    # Now, in the full list, remove the clones with the mutation in the same position otherwise they count as indivisual hits\n",
    "    desired_rows = []\n",
    "    for name, cur_data in popclo.groupby(['sys_name', 'sample_name','position']): # This is a bit dirty, i'm assuming two different genes where not mutated in the same population at the same position, basically if two clones from the same populations have mutations in the same position, I'm assuming is the same gene and therefore I count it as 1 hit that spread.\n",
    "        cur_row = cur_data.iloc[0]\n",
    "        desired_rows.append(cur_row)\n",
    "    popclo_ss = pd.DataFrame(desired_rows)\n",
    "\n",
    "    #Count the number of hits per genes and order them from highest to lowest\n",
    "    counter_pop=Counter(popclo_ss.sys_name) \n",
    "    genes = pd.DataFrame.from_dict(counter_pop, orient='index').reset_index() \n",
    "    genes = genes.rename(columns={'index':'sys_name', 0:'hits'}) \n",
    "    genes= genes.dropna()\n",
    "\n",
    "    #Merge the counter list with the original list\n",
    "    list2= pd.merge(popclo_ss, genes, on='sys_name', how='left')\n",
    "\n",
    "    desired_rows = []\n",
    "    for name, cur_data in list2.groupby(['sys_name', 'hits']):\n",
    "        cur_row = cur_data.iloc[0]\n",
    "        desired_rows.append(cur_row)\n",
    "    popclo_ss_h = pd.DataFrame(desired_rows)\n",
    "    hits_all=popclo_ss_h[['sys_name','sgdid','gene_name','size','hits','origin','description']]\n",
    "    hits_all= hits_all.sort_values(by='hits', ascending=0)\n",
    "    hits_all.to_csv('output/'+ genotype + 'clones_hits.csv')\n",
    "\n",
    "    #combine the two lists in a summary of hits\n",
    "    summary = pd.merge(hits, hits_all, on='sys_name')\n",
    "\n",
    "    # calculate the average frequency of the hits found in the populations\n",
    "    summary['frequency']= 0\n",
    "    for index, row in summary.iterrows():\n",
    "        gene = pop2.loc[pop2['sys_name'] == row['sys_name'], :]\n",
    "        freq=gene['fraction'].mean()\n",
    "        if numpy.isnan(freq) == False:\n",
    "            summary.set_value(index,'frequency',freq)\n",
    "            \n",
    "    #This is to make frequencies of 0 to <25\n",
    "    #summary['frequency'] = summary['frequency'].replace(0,'<25')\n",
    "    \n",
    "    #order the list based on unique hits\n",
    "    summary= summary.sort_values(by='hits', ascending=0)\n",
    "\n",
    "    #save on a file\n",
    "    summary = summary[['sys_name', 'sgdid_x', 'gene_name_x', 'size_x','pop_hits', 'hits','frequency', 'origin_x', 'description_x']]\n",
    "    summary.to_csv('output/' + genotype + 'summary.csv')\n",
    "\n",
    "    # removal of mutations selected in wt from the mutations found in the ctf4 evo experiment\n",
    "    summary_filtered = summary[~summary.sys_name.isin(wt.sys_name)]\n",
    "    summary_filtered.to_csv('output/' + genotype +'summary_filtered.csv')\n",
    "    \n",
    "    return summary_filtered"
   ]
  },
  {
   "cell_type": "code",
   "execution_count": 8,
   "metadata": {
    "collapsed": true
   },
   "outputs": [],
   "source": [
    "def hits_count_dip(population, clones, wt, genotype):\n",
    "    # Import the list of yeast ORFs with size and description and merge it with the list of mutations\n",
    "    ORFs = pd.read_csv('ver_ORFs.tsv', sep='\\t')\n",
    "    pop= pd.merge(population, ORFs, on='sgdid')\n",
    "    clo= pd.merge(clones, ORFs, on='sgdid')\n",
    "    pop2=pop[['sys_name','sgdid','gene_name','size','chr_num','position','sample_name','snp_indel','ref','read','fraction','tot_reads','mutation_type','origin','description']]\n",
    "    clo2=clo[['sys_name','sgdid','gene_name','size','chr_num','position','sample_name','snp_indel','ref','read','fraction','tot_reads','mutation_type','origin','description']]\n",
    "\n",
    "    # Save the mutations to files before applying any other filter\n",
    "    pop2.to_csv('output/'+genotype+'populations.csv')\n",
    "    clo2.to_csv('output/'+genotype+'clones.csv')\n",
    "\n",
    "    # change the name of the sample in 'clone'\n",
    "    clo2.rename(columns = {'sample_name':'clone'}, inplace = True) \n",
    "   \n",
    "    # remove the secon part of the sample_name and create a population column so that after we can count only one mutation per population\n",
    "    clo2['sample_name'] = clo2.clone.str.split('_').str[0]\n",
    "    clo2['sample_name'] = clo2['sample_name'] + '_'\n",
    "\n",
    "    # Join the population dataset with the clone dataset\n",
    "    frames = [pop2, clo2]\n",
    "    popclo = pd.concat(frames, ignore_index=True)\n",
    "\n",
    "    # In case one gene has been mutated multiple times in the same POPULATION consider only one hit\n",
    "    desired_rows = []\n",
    "    for name, cur_data in popclo.groupby(['sys_name', 'sample_name']):\n",
    "        cur_row = cur_data.iloc[0]\n",
    "        desired_rows.append(cur_row)\n",
    "    popclo_s = pd.DataFrame(desired_rows)\n",
    "\n",
    "    # COUNT HOW MANY POPULATIONS HAVE A MUTATION IN A GIVEN GENE\n",
    "\n",
    "    #Count the number of hits per genes and order them from highest to lowest\n",
    "    counter_pop=Counter(popclo_s.sys_name) \n",
    "    genes = pd.DataFrame.from_dict(counter_pop, orient='index').reset_index() \n",
    "    genes = genes.rename(columns={'index':'sys_name', 0:'pop_hits'}) \n",
    "    genes=genes.dropna()\n",
    "\n",
    "    #Merge the counter list with the original list\n",
    "    list1= pd.merge(popclo_s, genes, on='sys_name', how='left')\n",
    "\n",
    "    desired_rows = []\n",
    "    for name, cur_data in list1.groupby(['sys_name', 'pop_hits']):\n",
    "        cur_row = cur_data.iloc[0]\n",
    "        desired_rows.append(cur_row)\n",
    "    popclo_s_h = pd.DataFrame(desired_rows)\n",
    "    hits=popclo_s_h[['sys_name','sgdid','gene_name','size','pop_hits','origin','description']]\n",
    "    hits= hits.sort_values(by='pop_hits', ascending=0)\n",
    "    hits.to_csv('output/' + genotype + 'pop_hits.csv')\n",
    "\n",
    "    # COUNT HOW MANY INDEPENDENT HITS HAVE BEEN OBTAINED (taking into account diferent mutations within the same population)\n",
    "    # Now, in the full list, remove the clones with the mutation in the same position otherwise they count as indivisual hits\n",
    "    desired_rows = []\n",
    "    for name, cur_data in popclo.groupby(['sys_name', 'sample_name','position']): # This is a bit dirty, i'm assuming two different genes where not mutated in the same population at the same position, basically if two clones from the same populations have mutations in the same position, I'm assuming is the same gene and therefore I count it as 1 hit that spread.\n",
    "        cur_row = cur_data.iloc[0]\n",
    "        desired_rows.append(cur_row)\n",
    "    popclo_ss = pd.DataFrame(desired_rows)\n",
    "\n",
    "    #Count the number of hits per genes and order them from highest to lowest\n",
    "    counter_pop=Counter(popclo_ss.sys_name) \n",
    "    genes = pd.DataFrame.from_dict(counter_pop, orient='index').reset_index() \n",
    "    genes = genes.rename(columns={'index':'sys_name', 0:'hits'}) \n",
    "    genes= genes.dropna()\n",
    "\n",
    "    #Merge the counter list with the original list\n",
    "    list2= pd.merge(popclo_ss, genes, on='sys_name', how='left')\n",
    "\n",
    "    desired_rows = []\n",
    "    for name, cur_data in list2.groupby(['sys_name', 'hits']):\n",
    "        cur_row = cur_data.iloc[0]\n",
    "        desired_rows.append(cur_row)\n",
    "    popclo_ss_h = pd.DataFrame(desired_rows)\n",
    "    hits_all=popclo_ss_h[['sys_name','sgdid','gene_name','size','hits','origin','description']]\n",
    "    hits_all= hits_all.sort_values(by='hits', ascending=0)\n",
    "    hits_all.to_csv('output/'+ genotype + 'clones_hits.csv')\n",
    "\n",
    "    #combine the two lists in a summary of hits\n",
    "    summary = pd.merge(hits, hits_all, on='sys_name')\n",
    "\n",
    "    # calculate the average frequency of the hits found in the populations\n",
    "    summary['frequency']= 0\n",
    "    for index, row in summary.iterrows():\n",
    "        gene = pop2.loc[pop2['sys_name'] == row['sys_name'], :]\n",
    "        freq=gene['fraction'].mean()\n",
    "        if numpy.isnan(freq) == False:\n",
    "            summary.set_value(index,'frequency',freq)\n",
    "            \n",
    "    # calculate the average frequency of the hits found in the clones\n",
    "    summary['clone_frequency']= 0\n",
    "    for index, row in summary.iterrows():\n",
    "        gene = clo2.loc[clo2['sys_name'] == row['sys_name'], :]\n",
    "        freq=gene['fraction'].mean()\n",
    "        if numpy.isnan(freq) == False:\n",
    "            summary.set_value(index,'clone_frequency',freq)\n",
    "            \n",
    "    # determine if on average the gene is found in het or hom in clones\n",
    "    summary['zygosity'] = 0\n",
    "    summary.loc[summary['clone_frequency'] < 76, 'zygosity'] = 'het'\n",
    "    summary.loc[summary['clone_frequency'] > 76, 'zygosity'] = 'hom'\n",
    "    \n",
    "    # if the gene is often mutated in het, then mulifly it's population frequency X2 to obtain a virtual frequency\n",
    "    summary['virtual_freq'] = summary['frequency']\n",
    "    summary.loc[summary['zygosity'] == 'het', 'virtual_freq'] =summary.frequency * 2\n",
    "\n",
    "    #This is to make frequencies of 0 to <25\n",
    "    #summary['frequency'] = summary['frequency'].replace(0,'<25')\n",
    "    \n",
    "    #order the list based on unique hits\n",
    "    summary= summary.sort_values(by='hits', ascending=0)\n",
    "\n",
    "    #save on a file\n",
    "    summary = summary[['sys_name', 'sgdid_x', 'gene_name_x', 'size_x','pop_hits', 'hits','frequency','virtual_freq','clone_frequency','zygosity', 'origin_x', 'description_x']]\n",
    "    summary.to_csv('output/' + genotype + 'summary.csv')\n",
    "\n",
    "    # removal of mutations selected in wt from the mutations found in the ctf4 evo experiment\n",
    "    summary_filtered = summary[~summary.sys_name.isin(wt.sys_name)]\n",
    "    summary_filtered.to_csv('output/' + genotype +'summary_filtered.csv')\n",
    "\n",
    "    return summary_filtered"
   ]
  },
  {
   "cell_type": "code",
   "execution_count": 9,
   "metadata": {
    "collapsed": true
   },
   "outputs": [],
   "source": [
    "def stat(summary, genotype):\n",
    "\n",
    "    #get the total mutations obtained at the end of the experiment (counting pop_hits I only consider unique mutations in pop)\n",
    "    n=summary['hits'].sum()\n",
    "    #get the size of all the genes mutated + 1000bp for promoters/terminators\n",
    "    target_size = (summary['size_x'].sum())+(len(summary)*1000)\n",
    "    #get the size of all the genes in the genome + 500bp for promoters/terminators\n",
    "    genome_size = (ORFs['size'].sum())+(len(ORFs)*1000)\n",
    "    #calculate the rate of mutations obtained at the end of the experiment\n",
    "    random_rate=float(n)/genome_size\n",
    "    \n",
    "    #for each gene hit, calculate a mutation rate\n",
    "    # Probability of having >=n number of hits\n",
    "    summary['P']= 1-gammaincc(summary['hits']+1, random_rate*(summary['size_x']+1000))\n",
    "    # Probability of having =n number of hits\n",
    "    summary['Pe']= (random_rate*(summary['size_x']+1000))**summary['hits']*exp(-random_rate*(summary['size_x']+1000))/factorial(summary['hits'])\n",
    "\n",
    "    #Benjamini-Hochberg correction\n",
    "    positive_bh=summary.sort_values(by='P')\n",
    "    positive_bh=positive_bh.reset_index()\n",
    "    positive_bh2=positive_bh.loc[positive_bh['P'] < (0.05*(positive_bh.index+1)/len(ORFs)), :]\n",
    "    #positive_bh=positive_bh.head(len(positive_bh2))\n",
    "    positive_bh.to_csv('output/' + genotype + 'Pvalue_all.csv')\n",
    "    positive_bh2.to_csv('output/'+ genotype + 'Benjamini-Hochberg.csv')\n",
    "\n",
    "    #Bonferroni correction\n",
    "    positive_bo = summary.loc[summary['P'] < (0.1/len(ORFs)), :]\n",
    "    #positive_bo=positive_bo.reset_index()\n",
    "    positive_bo.to_csv('output/'+ genotype + 'haploids_bonferroni.csv')"
   ]
  },
  {
   "cell_type": "code",
   "execution_count": 10,
   "metadata": {
    "collapsed": false
   },
   "outputs": [],
   "source": [
    "#Import the mutations selected in haploid and diploids\n",
    "hap_sel = pd.read_csv('output/hap_hits_summary_Pvalue_all.csv')\n",
    "dip_sel = pd.read_csv('output/dip_hits_summary_Pvalue_all.csv')\n",
    "ORFs = pd.read_csv('ver_ORFs.tsv', sep='\\t')"
   ]
  },
  {
   "cell_type": "code",
   "execution_count": 11,
   "metadata": {
    "collapsed": false
   },
   "outputs": [],
   "source": [
    "#Import the mutations found at 10% in the ctf4 evolved haploid populations (populations - 1000 generations)\n",
    "ListByGenes1 = pd.read_csv('tabbed_output_by_gene_117f3_10.txt', sep='\\t')\n",
    "ListByGenes2 = pd.read_csv('tabbed_output_by_gene_124f3_10.txt', sep='\\t')\n",
    "\n",
    "#Import the mutations found at 90% in the ctf4 evolved haploid clones (populations - 1000 generations)\n",
    "ListByGenes3 = pd.read_csv('tabbed_output_by_gene_117f3_75.txt', sep='\\t')\n",
    "ListByGenes4 = pd.read_csv('tabbed_output_by_gene_124f3_75.txt', sep='\\t')\n",
    "\n",
    "#Import the mutations found at 10% in the ctf4 evolved diploid populations (populations - 1000 generations)\n",
    "ListByGenes5 = pd.read_csv('tabbed_output_by_gene_149f3_10.txt', sep='\\t')\n",
    "ListByGenes6 = pd.read_csv('tabbed_output_by_gene_150f3_10_noEVO14.txt', sep='\\t')\n",
    "\n",
    "#Import the mutations found at 40% in the ctf4 evolved dipolid clones (populations - 1000 generations)\n",
    "ListByGenes7 = pd.read_csv('tabbed_output_by_gene_149f3_25.txt', sep='\\t')\n",
    "ListByGenes8 = pd.read_csv('tabbed_output_by_gene_150f3_25_noEVO14.txt', sep='\\t')\n",
    "\n",
    "#Import the mutations found at 10% in the ctf4 rad52 evolved haploid populations (populations - 1000 generations)\n",
    "ListByGenes9 = pd.read_csv('tabbed_output_by_gene_135f3_10.txt', sep='\\t')\n",
    "ListByGenes10 = pd.read_csv('tabbed_output_by_gene_139f3_10.txt', sep='\\t')\n",
    "\n",
    "#Import the mutations found at 90% in the ctf4 rad52 evolved haploid clones (populations - 1000 generations)\n",
    "ListByGenes11 = pd.read_csv('tabbed_output_by_gene_135f3_75.txt', sep='\\t')\n",
    "ListByGenes12 = pd.read_csv('tabbed_output_by_gene_139f3_75.txt', sep='\\t')\n",
    "\n",
    "# Create separate lists for haploids (hap), diploids (dip) and double (rad)\n",
    "\n",
    "frames = [ListByGenes1, ListByGenes2]\n",
    "hap_pop = pd.concat(frames, ignore_index=True)\n",
    "\n",
    "frames = [ListByGenes3, ListByGenes4]\n",
    "hap_clo = pd.concat(frames, ignore_index=True)\n",
    "\n",
    "frames = [ListByGenes5, ListByGenes6]\n",
    "dip_pop = pd.concat(frames, ignore_index=True)\n",
    "\n",
    "frames = [ListByGenes7, ListByGenes8]\n",
    "dip_clo = pd.concat(frames, ignore_index=True)\n",
    "\n",
    "frames = [ListByGenes9, ListByGenes10]\n",
    "rad_pop = pd.concat(frames, ignore_index=True)\n",
    "\n",
    "frames = [ListByGenes11, ListByGenes12]\n",
    "rad_clo = pd.concat(frames, ignore_index=True)"
   ]
  },
  {
   "cell_type": "code",
   "execution_count": 12,
   "metadata": {
    "collapsed": false
   },
   "outputs": [
    {
     "name": "stderr",
     "output_type": "stream",
     "text": [
      "C:\\Anaconda2\\lib\\site-packages\\pandas\\core\\frame.py:2748: SettingWithCopyWarning: \n",
      "A value is trying to be set on a copy of a slice from a DataFrame\n",
      "\n",
      "See the caveats in the documentation: http://pandas.pydata.org/pandas-docs/stable/indexing.html#indexing-view-versus-copy\n",
      "  **kwargs)\n",
      "C:\\Anaconda2\\lib\\site-packages\\ipykernel\\__main__.py:16: SettingWithCopyWarning: \n",
      "A value is trying to be set on a copy of a slice from a DataFrame.\n",
      "Try using .loc[row_indexer,col_indexer] = value instead\n",
      "\n",
      "See the caveats in the documentation: http://pandas.pydata.org/pandas-docs/stable/indexing.html#indexing-view-versus-copy\n"
     ]
    }
   ],
   "source": [
    "hap_pop25 = hap_pop[hap_pop.fraction >24]\n",
    "haploids = hits_count(hap_pop25,hap_clo,hap_sel,'ctf4_haploids_ver_')\n",
    "hap_pop_CDS = hap_pop25.loc[hap_pop25['mutation_type'] == 'Clone variant, nonsynonymous', :]\n",
    "hap_clo_CDS = hap_clo.loc[hap_clo['mutation_type'] == 'Clone variant, nonsynonymous', :]\n",
    "haploids_CDS = hits_count(hap_pop_CDS,hap_clo_CDS,hap_sel,'ctf4_haploids_CDS_ver_')"
   ]
  },
  {
   "cell_type": "code",
   "execution_count": 13,
   "metadata": {
    "collapsed": false
   },
   "outputs": [
    {
     "name": "stderr",
     "output_type": "stream",
     "text": [
      "C:\\Anaconda2\\lib\\site-packages\\ipykernel\\__main__.py:16: SettingWithCopyWarning: \n",
      "A value is trying to be set on a copy of a slice from a DataFrame.\n",
      "Try using .loc[row_indexer,col_indexer] = value instead\n",
      "\n",
      "See the caveats in the documentation: http://pandas.pydata.org/pandas-docs/stable/indexing.html#indexing-view-versus-copy\n"
     ]
    }
   ],
   "source": [
    "rad_pop25 = rad_pop[rad_pop.fraction >24]\n",
    "double = hits_count(rad_pop25,rad_clo,hap_sel,'ctf4_rad52_haploids_ver_')\n",
    "rad_pop_CDS = rad_pop25.loc[rad_pop25['mutation_type'] == 'Clone variant, nonsynonymous', :]\n",
    "rad_clo_CDS = rad_clo.loc[rad_clo['mutation_type'] == 'Clone variant, nonsynonymous', :]\n",
    "double_CDS = hits_count(rad_pop_CDS,rad_clo_CDS,hap_sel,'ctf4_rad52_haploids_CDS_ver_')"
   ]
  },
  {
   "cell_type": "code",
   "execution_count": 14,
   "metadata": {
    "collapsed": false
   },
   "outputs": [],
   "source": [
    "dip_pop25 = dip_pop[dip_pop.fraction >24]\n",
    "dip_clo35 = dip_clo[dip_clo.fraction >34]\n",
    "diploids = hits_count_dip(dip_pop25,dip_clo35,dip_sel,'ctf4_diploids_ver_')\n",
    "dip_pop_CDS = dip_pop25.loc[dip_pop25['mutation_type'] == 'Clone variant, nonsynonymous', :]\n",
    "dip_clo_CDS = dip_clo35.loc[dip_clo35['mutation_type'] == 'Clone variant, nonsynonymous', :]\n",
    "diploids_CDS = hits_count_dip(dip_pop_CDS,dip_clo_CDS,dip_sel,'ctf4_diploids_CDS_ver_')"
   ]
  },
  {
   "cell_type": "code",
   "execution_count": 15,
   "metadata": {
    "collapsed": false
   },
   "outputs": [
    {
     "name": "stderr",
     "output_type": "stream",
     "text": [
      "C:\\Anaconda2\\lib\\site-packages\\ipykernel\\__main__.py:16: SettingWithCopyWarning: \n",
      "A value is trying to be set on a copy of a slice from a DataFrame.\n",
      "Try using .loc[row_indexer,col_indexer] = value instead\n",
      "\n",
      "See the caveats in the documentation: http://pandas.pydata.org/pandas-docs/stable/indexing.html#indexing-view-versus-copy\n"
     ]
    }
   ],
   "source": [
    "# try to put the list together and calculate total hits\n",
    "\n",
    "frames = [hap_pop25, dip_pop25, rad_pop25]\n",
    "joint_pop = pd.concat(frames, ignore_index=True)\n",
    "\n",
    "frames = [hap_clo, dip_clo35, rad_clo]\n",
    "joint_clo = pd.concat(frames, ignore_index=True)\n",
    "\n",
    "joint = hits_count(joint_pop,joint_clo,hap_sel,'joint_hits_ver_')"
   ]
  },
  {
   "cell_type": "code",
   "execution_count": 16,
   "metadata": {
    "collapsed": false
   },
   "outputs": [],
   "source": [
    "stat(haploids,'ctf4_haploids_ver_')\n",
    "stat(double,'ctf4_rad52_haploids_ver_')\n",
    "stat(diploids,'ctf4_diploids_ver_')\n",
    "stat(joint,'ctf4_joint_ver_')"
   ]
  },
  {
   "cell_type": "code",
   "execution_count": 17,
   "metadata": {
    "collapsed": true
   },
   "outputs": [],
   "source": [
    "stat(haploids_CDS,'ctf4_haploids_CDS_ver_')\n",
    "stat(double_CDS,'ctf4_rad52_haploids_CDS_ver_')\n",
    "stat(diploids_CDS,'ctf4_diploids_CDS_ver_')"
   ]
  },
  {
   "cell_type": "code",
   "execution_count": null,
   "metadata": {
    "collapsed": true
   },
   "outputs": [],
   "source": []
  }
 ],
 "metadata": {
  "kernelspec": {
   "display_name": "Python 2",
   "language": "python",
   "name": "python2"
  },
  "language_info": {
   "codemirror_mode": {
    "name": "ipython",
    "version": 2
   },
   "file_extension": ".py",
   "mimetype": "text/x-python",
   "name": "python",
   "nbconvert_exporter": "python",
   "pygments_lexer": "ipython2",
   "version": "2.7.13"
  }
 },
 "nbformat": 4,
 "nbformat_minor": 0
}
