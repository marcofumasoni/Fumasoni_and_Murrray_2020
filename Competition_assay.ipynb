{
 "cells": [
  {
   "cell_type": "code",
   "execution_count": null,
   "metadata": {
    "collapsed": true
   },
   "outputs": [],
   "source": [
    "# This script imports the FCS files from a flow cytometer and quantify the number of reference and test strain abundance \n",
    "# in a population based on different fluorophores \n",
    "\n",
    "# NOTE\n",
    "# The code is made available for transparency reasons. At present, it is not intended to be readily usable on different datasets. \n",
    "# Also, it was not annotated and compiled to be user-friendly. Please, contact me privately for any inquiry related to the code usage.\n",
    "# I will maintain this code with improved versions as soon as they are developed."
   ]
  },
  {
   "cell_type": "code",
   "execution_count": 1,
   "metadata": {
    "collapsed": false
   },
   "outputs": [
    {
     "name": "stderr",
     "output_type": "stream",
     "text": [
      "C:\\Anaconda2\\envs\\py36\\lib\\site-packages\\FlowCytometryTools\\core\\docstring.py:56: MatplotlibDeprecationWarning: \n",
      "The dedent function was deprecated in Matplotlib 3.1 and will be removed in 3.3. Use inspect.cleandoc instead.\n",
      "  doc = dedent(doc)\n",
      "C:\\Anaconda2\\envs\\py36\\lib\\site-packages\\FlowCytometryTools\\core\\docstring.py:56: MatplotlibDeprecationWarning: \n",
      "The dedent function was deprecated in Matplotlib 3.1 and will be removed in 3.3. Use inspect.cleandoc instead.\n",
      "  doc = dedent(doc)\n"
     ]
    }
   ],
   "source": [
    "import FlowCytometryTools\n",
    "from FlowCytometryTools import FCMeasurement\n",
    "from FlowCytometryTools import ThresholdGate, PolyGate\n",
    "from pylab import *\n",
    "from itertools import chain\n",
    "import matplotlib.pylab as pylab\n",
    "from mpl_toolkits.axes_grid1.inset_locator import inset_axes\n",
    "params = {'legend.fontsize': 'x-large',\n",
    "#           'figure.figsize': (15, 5),\n",
    "         'axes.labelsize': 'x-large',\n",
    "         'axes.titlesize':'x-large',\n",
    "         'xtick.labelsize':'x-large',\n",
    "         'ytick.labelsize':'x-large'}\n",
    "pylab.rcParams.update(params)\n",
    "import pandas as pd \n",
    "from FlowCytometryTools import PolyGate\n",
    "%matplotlib inline"
   ]
  },
  {
   "cell_type": "code",
   "execution_count": 2,
   "metadata": {
    "collapsed": false
   },
   "outputs": [],
   "source": [
    "import glob\n",
    "from FlowCytometryTools import FCMeasurement"
   ]
  },
  {
   "cell_type": "code",
   "execution_count": 3,
   "metadata": {
    "collapsed": false
   },
   "outputs": [],
   "source": [
    "files=glob.glob(\"*.fcs\")\n",
    "datacounts = pd.DataFrame(columns = ['Name', 'Counts', 'Ref']) "
   ]
  },
  {
   "cell_type": "code",
   "execution_count": 4,
   "metadata": {
    "collapsed": false
   },
   "outputs": [
    {
     "data": {
      "text/plain": [
       "['Specimen_001_A10_A10.fcs',\n",
       " 'Specimen_001_A1_A01.fcs',\n",
       " 'Specimen_001_A2_A02.fcs',\n",
       " 'Specimen_001_A3_A03.fcs',\n",
       " 'Specimen_001_A4_A04.fcs',\n",
       " 'Specimen_001_A5_A05.fcs',\n",
       " 'Specimen_001_A6_A06.fcs',\n",
       " 'Specimen_001_A7_A07.fcs',\n",
       " 'Specimen_001_A8_A08.fcs',\n",
       " 'Specimen_001_A9_A09.fcs',\n",
       " 'Specimen_001_B10_B10.fcs',\n",
       " 'Specimen_001_B1_B01.fcs',\n",
       " 'Specimen_001_B2_B02.fcs',\n",
       " 'Specimen_001_B3_B03.fcs',\n",
       " 'Specimen_001_B4_B04.fcs',\n",
       " 'Specimen_001_B5_B05.fcs',\n",
       " 'Specimen_001_B6_B06.fcs',\n",
       " 'Specimen_001_B7_B07.fcs',\n",
       " 'Specimen_001_B8_B08.fcs',\n",
       " 'Specimen_001_B9_B09.fcs',\n",
       " 'Specimen_001_C10_C10.fcs',\n",
       " 'Specimen_001_C1_C01.fcs',\n",
       " 'Specimen_001_C2_C02.fcs',\n",
       " 'Specimen_001_C3_C03.fcs',\n",
       " 'Specimen_001_C4_C04.fcs',\n",
       " 'Specimen_001_C5_C05.fcs',\n",
       " 'Specimen_001_C6_C06.fcs',\n",
       " 'Specimen_001_C7_C07.fcs',\n",
       " 'Specimen_001_C8_C08.fcs',\n",
       " 'Specimen_001_C9_C09.fcs',\n",
       " 'Specimen_001_D10_D10.fcs',\n",
       " 'Specimen_001_D1_D01.fcs',\n",
       " 'Specimen_001_D2_D02.fcs',\n",
       " 'Specimen_001_D3_D03.fcs',\n",
       " 'Specimen_001_D4_D04.fcs',\n",
       " 'Specimen_001_D5_D05.fcs',\n",
       " 'Specimen_001_D6_D06.fcs',\n",
       " 'Specimen_001_D7_D07.fcs',\n",
       " 'Specimen_001_D8_D08.fcs',\n",
       " 'Specimen_001_D9_D09.fcs']"
      ]
     },
     "execution_count": 4,
     "metadata": {},
     "output_type": "execute_result"
    }
   ],
   "source": [
    "files"
   ]
  },
  {
   "cell_type": "code",
   "execution_count": 5,
   "metadata": {
    "collapsed": false
   },
   "outputs": [
    {
     "name": "stdout",
     "output_type": "stream",
     "text": [
      "('FSC-A', 'SSC-A', 'APC-A', 'APC-Cy7-A', 'FITC-A', 'PerCP-A', 'mCFP-A', 'Chromomycin A3-A', 'PE-A', 'PE-Texas Red-A', 'PE-Cy5-A', 'PE-Cy7-A', 'Time')\n"
     ]
    }
   ],
   "source": [
    "# set a sample to find the limits for gating\n",
    "sample = FCMeasurement(ID='Test Sample', datafile=r'Specimen_001_A10_A10.fcs')\n",
    "print(sample.channel_names)"
   ]
  },
  {
   "cell_type": "code",
   "execution_count": 6,
   "metadata": {
    "collapsed": false
   },
   "outputs": [
    {
     "name": "stderr",
     "output_type": "stream",
     "text": [
      "C:\\Anaconda2\\envs\\py36\\lib\\site-packages\\matplotlib\\colors.py:1110: RuntimeWarning: invalid value encountered in less_equal\n",
      "  mask |= resdat <= 0\n"
     ]
    },
    {
     "data": {
      "image/png": "[encoded data removed]",
      "text/plain": [
       "<Figure size 432x288 with 1 Axes>"
      ]
     },
     "metadata": {},
     "output_type": "display_data"
    }
   ],
   "source": [
    "# look at FSC-A and SSC-A for gating cells\n",
    "#tsample = sample.transform('hlog', channels=['FSC-A', 'SSC-A'], b=500.0)\n",
    "sample.plot(['FSC-A', 'SSC-A']);"
   ]
  },
  {
   "cell_type": "code",
   "execution_count": null,
   "metadata": {
    "collapsed": false
   },
   "outputs": [],
   "source": [
    "# select the gate\n",
    "sample.view_interactively(backend='wx')"
   ]
  },
  {
   "cell_type": "code",
   "execution_count": 7,
   "metadata": {
    "collapsed": false
   },
   "outputs": [],
   "source": [
    "# copy the gate coordinates and create a gate call 'cells'\n",
    "cells = PolyGate([(1.911e+04, 2.334e+05), (1.073e+04, 3.525e+04), (9.585e+03, 3.969e+03), (2.140e+04, 1.702e+03), (2.603e+05, 2.609e+03),\n",
    "                  (2.584e+05, 2.597e+05), (2.140e+04, 2.551e+05), (1.873e+04, 2.343e+05)], ('FSC-A', 'SSC-A'), name='cells')"
   ]
  },
  {
   "cell_type": "code",
   "execution_count": 8,
   "metadata": {
    "collapsed": false
   },
   "outputs": [
    {
     "name": "stderr",
     "output_type": "stream",
     "text": [
      "C:\\Anaconda2\\envs\\py36\\lib\\site-packages\\matplotlib\\colors.py:1110: RuntimeWarning: invalid value encountered in less_equal\n",
      "  mask |= resdat <= 0\n"
     ]
    },
    {
     "data": {
      "image/png": "[encoded data removed]",
      "text/plain": [
       "<Figure size 432x288 with 1 Axes>"
      ]
     },
     "metadata": {},
     "output_type": "display_data"
    }
   ],
   "source": [
    "# gate the sample and visualize it\n",
    "gated_sample = sample.gate(cells)\n",
    "gated_sample.plot(['FSC-A', 'SSC-A']);"
   ]
  },
  {
   "cell_type": "code",
   "execution_count": 9,
   "metadata": {
    "collapsed": false
   },
   "outputs": [
    {
     "name": "stderr",
     "output_type": "stream",
     "text": [
      "C:\\Anaconda2\\envs\\py36\\lib\\site-packages\\matplotlib\\colors.py:1110: RuntimeWarning: invalid value encountered in less_equal\n",
      "  mask |= resdat <= 0\n"
     ]
    },
    {
     "data": {
      "image/png": "[encoded data removed]",
      "text/plain": [
       "<Figure size 432x288 with 1 Axes>"
      ]
     },
     "metadata": {},
     "output_type": "display_data"
    }
   ],
   "source": [
    "#transform mCFP and texas red in log\n",
    "tsample = gated_sample.transform('hlog', channels=['PE-Texas Red-A', 'mCFP-A'], b=500.0)\n",
    "tsample.plot(['mCFP-A', 'PE-Texas Red-A']);"
   ]
  },
  {
   "cell_type": "code",
   "execution_count": null,
   "metadata": {
    "collapsed": false
   },
   "outputs": [],
   "source": [
    "# select the gate\n",
    "tsample.view_interactively(backend='wx')"
   ]
  },
  {
   "cell_type": "code",
   "execution_count": 10,
   "metadata": {
    "collapsed": true
   },
   "outputs": [],
   "source": [
    "ref =  PolyGate([(9.452e+03, 8.382e+03), (6.672e+03, 6.443e+03), (4.056e+03, 4.504e+03), (2.512e+03, 3.191e+03), (1.513e+03, 2.385e+03), \n",
    "                 (-8.121e+02, 5.655e+02), (-8.303e+02, 2.550e+03), (-8.303e+02, 8.382e+03), (9.452e+03, 8.382e+03)], \n",
    "                ('PE-Texas Red-A', 'mCFP-A'),  region='in', name='ref')\n",
    "test = PolyGate([(9.488e+03, 8.293e+03), (5.691e+03, 4.877e+03), (1.931e+03, 2.684e+03), (-8.485e+02, 9.832e+02), \n",
    "                 (-8.303e+02, -1.568e+03), (9.470e+03, -1.553e+03), (9.488e+03, 8.278e+03)], ('PE-Texas Red-A', 'mCFP-A'), \n",
    "                region='in', name='test')"
   ]
  },
  {
   "cell_type": "code",
   "execution_count": 11,
   "metadata": {
    "collapsed": false
   },
   "outputs": [
    {
     "name": "stderr",
     "output_type": "stream",
     "text": [
      "C:\\Anaconda2\\envs\\py36\\lib\\site-packages\\matplotlib\\colors.py:1110: RuntimeWarning: invalid value encountered in less_equal\n",
      "  mask |= resdat <= 0\n"
     ]
    },
    {
     "data": {
      "image/png": "[encoded data removed]",
      "text/plain": [
       "<Figure size 432x288 with 1 Axes>"
      ]
     },
     "metadata": {},
     "output_type": "display_data"
    }
   ],
   "source": [
    "# gate the sample and visualize it\n",
    "ref_trial = tsample.gate(ref)\n",
    "ref_trial.plot(['mCFP-A', 'PE-Texas Red-A']);"
   ]
  },
  {
   "cell_type": "code",
   "execution_count": 12,
   "metadata": {
    "collapsed": false
   },
   "outputs": [
    {
     "name": "stderr",
     "output_type": "stream",
     "text": [
      "C:\\Anaconda2\\envs\\py36\\lib\\site-packages\\matplotlib\\colors.py:1110: RuntimeWarning: invalid value encountered in less_equal\n",
      "  mask |= resdat <= 0\n"
     ]
    },
    {
     "data": {
      "image/png": "[encoded data removed]",
      "text/plain": [
       "<Figure size 432x288 with 1 Axes>"
      ]
     },
     "metadata": {},
     "output_type": "display_data"
    }
   ],
   "source": [
    "# gate the sample and visualize it\n",
    "str_trial = tsample.gate(test)\n",
    "str_trial.plot(['mCFP-A', 'PE-Texas Red-A']);"
   ]
  },
  {
   "cell_type": "code",
   "execution_count": 13,
   "metadata": {
    "collapsed": false
   },
   "outputs": [],
   "source": [
    "# Do the analysis for all the samples\n",
    "for i in range(0,len(files)):\n",
    "    sample = FCMeasurement(ID='Sample', datafile=files[i])\n",
    "    gated_sample = sample.gate(cells)\n",
    "    tsample = gated_sample.transform('hlog', channels=['PE-Texas Red-A', 'mCFP-A','FSC-A', 'SSC-A'], b=500.0)\n",
    "    reference = tsample.gate(ref)\n",
    "    strain = tsample.gate(test)\n",
    "    nref=reference.get_data().shape[0]\n",
    "    nstr=strain.get_data().shape[0]\n",
    "    ntot = nref + nstr\n",
    "    temp = pd.DataFrame([[files[i], ntot, nstr, nref]], columns = ['Name', 'Counts', 'test', 'Ref']) \n",
    "    datacounts = datacounts.append(temp, sort = False)"
   ]
  },
  {
   "cell_type": "code",
   "execution_count": 14,
   "metadata": {
    "collapsed": false
   },
   "outputs": [],
   "source": [
    "# Save the results in output\n",
    "datacounts.to_csv(\"output.csv\", index=False)"
   ]
  },
  {
   "cell_type": "code",
   "execution_count": 15,
   "metadata": {
    "collapsed": false
   },
   "outputs": [
    {
     "data": {
      "text/html": [
       "<div>\n",
       "<style scoped>\n",
       "    .dataframe tbody tr th:only-of-type {\n",
       "        vertical-align: middle;\n",
       "    }\n",
       "\n",
       "    .dataframe tbody tr th {\n",
       "        vertical-align: top;\n",
       "    }\n",
       "\n",
       "    .dataframe thead th {\n",
       "        text-align: right;\n",
       "    }\n",
       "</style>\n",
       "<table border=\"1\" class=\"dataframe\">\n",
       "  <thead>\n",
       "    <tr style=\"text-align: right;\">\n",
       "      <th></th>\n",
       "      <th>Name</th>\n",
       "      <th>Counts</th>\n",
       "      <th>Ref</th>\n",
       "      <th>test</th>\n",
       "    </tr>\n",
       "  </thead>\n",
       "  <tbody>\n",
       "    <tr>\n",
       "      <th>0</th>\n",
       "      <td>Specimen_001_A10_A10.fcs</td>\n",
       "      <td>5483</td>\n",
       "      <td>2344</td>\n",
       "      <td>3139.0</td>\n",
       "    </tr>\n",
       "    <tr>\n",
       "      <th>0</th>\n",
       "      <td>Specimen_001_A1_A01.fcs</td>\n",
       "      <td>4065</td>\n",
       "      <td>1579</td>\n",
       "      <td>2486.0</td>\n",
       "    </tr>\n",
       "    <tr>\n",
       "      <th>0</th>\n",
       "      <td>Specimen_001_A2_A02.fcs</td>\n",
       "      <td>5469</td>\n",
       "      <td>1078</td>\n",
       "      <td>4391.0</td>\n",
       "    </tr>\n",
       "    <tr>\n",
       "      <th>0</th>\n",
       "      <td>Specimen_001_A3_A03.fcs</td>\n",
       "      <td>4124</td>\n",
       "      <td>1568</td>\n",
       "      <td>2556.0</td>\n",
       "    </tr>\n",
       "    <tr>\n",
       "      <th>0</th>\n",
       "      <td>Specimen_001_A4_A04.fcs</td>\n",
       "      <td>8281</td>\n",
       "      <td>1285</td>\n",
       "      <td>6996.0</td>\n",
       "    </tr>\n",
       "    <tr>\n",
       "      <th>0</th>\n",
       "      <td>Specimen_001_A5_A05.fcs</td>\n",
       "      <td>4207</td>\n",
       "      <td>1774</td>\n",
       "      <td>2433.0</td>\n",
       "    </tr>\n",
       "    <tr>\n",
       "      <th>0</th>\n",
       "      <td>Specimen_001_A6_A06.fcs</td>\n",
       "      <td>7048</td>\n",
       "      <td>1152</td>\n",
       "      <td>5896.0</td>\n",
       "    </tr>\n",
       "    <tr>\n",
       "      <th>0</th>\n",
       "      <td>Specimen_001_A7_A07.fcs</td>\n",
       "      <td>6725</td>\n",
       "      <td>1103</td>\n",
       "      <td>5622.0</td>\n",
       "    </tr>\n",
       "    <tr>\n",
       "      <th>0</th>\n",
       "      <td>Specimen_001_A8_A08.fcs</td>\n",
       "      <td>6816</td>\n",
       "      <td>1069</td>\n",
       "      <td>5747.0</td>\n",
       "    </tr>\n",
       "    <tr>\n",
       "      <th>0</th>\n",
       "      <td>Specimen_001_A9_A09.fcs</td>\n",
       "      <td>3246</td>\n",
       "      <td>1746</td>\n",
       "      <td>1500.0</td>\n",
       "    </tr>\n",
       "    <tr>\n",
       "      <th>0</th>\n",
       "      <td>Specimen_001_B10_B10.fcs</td>\n",
       "      <td>5630</td>\n",
       "      <td>2489</td>\n",
       "      <td>3141.0</td>\n",
       "    </tr>\n",
       "    <tr>\n",
       "      <th>0</th>\n",
       "      <td>Specimen_001_B1_B01.fcs</td>\n",
       "      <td>4562</td>\n",
       "      <td>1869</td>\n",
       "      <td>2693.0</td>\n",
       "    </tr>\n",
       "    <tr>\n",
       "      <th>0</th>\n",
       "      <td>Specimen_001_B2_B02.fcs</td>\n",
       "      <td>5961</td>\n",
       "      <td>1189</td>\n",
       "      <td>4772.0</td>\n",
       "    </tr>\n",
       "    <tr>\n",
       "      <th>0</th>\n",
       "      <td>Specimen_001_B3_B03.fcs</td>\n",
       "      <td>4094</td>\n",
       "      <td>1445</td>\n",
       "      <td>2649.0</td>\n",
       "    </tr>\n",
       "    <tr>\n",
       "      <th>0</th>\n",
       "      <td>Specimen_001_B4_B04.fcs</td>\n",
       "      <td>6962</td>\n",
       "      <td>1142</td>\n",
       "      <td>5820.0</td>\n",
       "    </tr>\n",
       "    <tr>\n",
       "      <th>0</th>\n",
       "      <td>Specimen_001_B5_B05.fcs</td>\n",
       "      <td>4488</td>\n",
       "      <td>1767</td>\n",
       "      <td>2721.0</td>\n",
       "    </tr>\n",
       "    <tr>\n",
       "      <th>0</th>\n",
       "      <td>Specimen_001_B6_B06.fcs</td>\n",
       "      <td>7999</td>\n",
       "      <td>1343</td>\n",
       "      <td>6656.0</td>\n",
       "    </tr>\n",
       "    <tr>\n",
       "      <th>0</th>\n",
       "      <td>Specimen_001_B7_B07.fcs</td>\n",
       "      <td>7485</td>\n",
       "      <td>1245</td>\n",
       "      <td>6240.0</td>\n",
       "    </tr>\n",
       "    <tr>\n",
       "      <th>0</th>\n",
       "      <td>Specimen_001_B8_B08.fcs</td>\n",
       "      <td>7227</td>\n",
       "      <td>1057</td>\n",
       "      <td>6170.0</td>\n",
       "    </tr>\n",
       "    <tr>\n",
       "      <th>0</th>\n",
       "      <td>Specimen_001_B9_B09.fcs</td>\n",
       "      <td>3958</td>\n",
       "      <td>2105</td>\n",
       "      <td>1853.0</td>\n",
       "    </tr>\n",
       "    <tr>\n",
       "      <th>0</th>\n",
       "      <td>Specimen_001_C10_C10.fcs</td>\n",
       "      <td>5961</td>\n",
       "      <td>2711</td>\n",
       "      <td>3250.0</td>\n",
       "    </tr>\n",
       "    <tr>\n",
       "      <th>0</th>\n",
       "      <td>Specimen_001_C1_C01.fcs</td>\n",
       "      <td>4151</td>\n",
       "      <td>1724</td>\n",
       "      <td>2427.0</td>\n",
       "    </tr>\n",
       "    <tr>\n",
       "      <th>0</th>\n",
       "      <td>Specimen_001_C2_C02.fcs</td>\n",
       "      <td>6314</td>\n",
       "      <td>1205</td>\n",
       "      <td>5109.0</td>\n",
       "    </tr>\n",
       "    <tr>\n",
       "      <th>0</th>\n",
       "      <td>Specimen_001_C3_C03.fcs</td>\n",
       "      <td>4652</td>\n",
       "      <td>1634</td>\n",
       "      <td>3018.0</td>\n",
       "    </tr>\n",
       "    <tr>\n",
       "      <th>0</th>\n",
       "      <td>Specimen_001_C4_C04.fcs</td>\n",
       "      <td>8216</td>\n",
       "      <td>1179</td>\n",
       "      <td>7037.0</td>\n",
       "    </tr>\n",
       "    <tr>\n",
       "      <th>0</th>\n",
       "      <td>Specimen_001_C5_C05.fcs</td>\n",
       "      <td>4719</td>\n",
       "      <td>1898</td>\n",
       "      <td>2821.0</td>\n",
       "    </tr>\n",
       "    <tr>\n",
       "      <th>0</th>\n",
       "      <td>Specimen_001_C6_C06.fcs</td>\n",
       "      <td>7844</td>\n",
       "      <td>1206</td>\n",
       "      <td>6638.0</td>\n",
       "    </tr>\n",
       "    <tr>\n",
       "      <th>0</th>\n",
       "      <td>Specimen_001_C7_C07.fcs</td>\n",
       "      <td>7859</td>\n",
       "      <td>1252</td>\n",
       "      <td>6607.0</td>\n",
       "    </tr>\n",
       "    <tr>\n",
       "      <th>0</th>\n",
       "      <td>Specimen_001_C8_C08.fcs</td>\n",
       "      <td>8081</td>\n",
       "      <td>1172</td>\n",
       "      <td>6909.0</td>\n",
       "    </tr>\n",
       "    <tr>\n",
       "      <th>0</th>\n",
       "      <td>Specimen_001_C9_C09.fcs</td>\n",
       "      <td>4376</td>\n",
       "      <td>2532</td>\n",
       "      <td>1844.0</td>\n",
       "    </tr>\n",
       "    <tr>\n",
       "      <th>0</th>\n",
       "      <td>Specimen_001_D10_D10.fcs</td>\n",
       "      <td>7536</td>\n",
       "      <td>3447</td>\n",
       "      <td>4089.0</td>\n",
       "    </tr>\n",
       "    <tr>\n",
       "      <th>0</th>\n",
       "      <td>Specimen_001_D1_D01.fcs</td>\n",
       "      <td>4609</td>\n",
       "      <td>1206</td>\n",
       "      <td>3403.0</td>\n",
       "    </tr>\n",
       "    <tr>\n",
       "      <th>0</th>\n",
       "      <td>Specimen_001_D2_D02.fcs</td>\n",
       "      <td>9048</td>\n",
       "      <td>1624</td>\n",
       "      <td>7424.0</td>\n",
       "    </tr>\n",
       "    <tr>\n",
       "      <th>0</th>\n",
       "      <td>Specimen_001_D3_D03.fcs</td>\n",
       "      <td>5479</td>\n",
       "      <td>2183</td>\n",
       "      <td>3296.0</td>\n",
       "    </tr>\n",
       "    <tr>\n",
       "      <th>0</th>\n",
       "      <td>Specimen_001_D4_D04.fcs</td>\n",
       "      <td>9455</td>\n",
       "      <td>1964</td>\n",
       "      <td>7491.0</td>\n",
       "    </tr>\n",
       "    <tr>\n",
       "      <th>0</th>\n",
       "      <td>Specimen_001_D5_D05.fcs</td>\n",
       "      <td>5403</td>\n",
       "      <td>2128</td>\n",
       "      <td>3275.0</td>\n",
       "    </tr>\n",
       "    <tr>\n",
       "      <th>0</th>\n",
       "      <td>Specimen_001_D6_D06.fcs</td>\n",
       "      <td>9523</td>\n",
       "      <td>1604</td>\n",
       "      <td>7919.0</td>\n",
       "    </tr>\n",
       "    <tr>\n",
       "      <th>0</th>\n",
       "      <td>Specimen_001_D7_D07.fcs</td>\n",
       "      <td>8189</td>\n",
       "      <td>1530</td>\n",
       "      <td>6659.0</td>\n",
       "    </tr>\n",
       "    <tr>\n",
       "      <th>0</th>\n",
       "      <td>Specimen_001_D8_D08.fcs</td>\n",
       "      <td>9887</td>\n",
       "      <td>1625</td>\n",
       "      <td>8262.0</td>\n",
       "    </tr>\n",
       "    <tr>\n",
       "      <th>0</th>\n",
       "      <td>Specimen_001_D9_D09.fcs</td>\n",
       "      <td>5441</td>\n",
       "      <td>3033</td>\n",
       "      <td>2408.0</td>\n",
       "    </tr>\n",
       "  </tbody>\n",
       "</table>\n",
       "</div>"
      ],
      "text/plain": [
       "                       Name Counts   Ref    test\n",
       "0  Specimen_001_A10_A10.fcs   5483  2344  3139.0\n",
       "0   Specimen_001_A1_A01.fcs   4065  1579  2486.0\n",
       "0   Specimen_001_A2_A02.fcs   5469  1078  4391.0\n",
       "0   Specimen_001_A3_A03.fcs   4124  1568  2556.0\n",
       "0   Specimen_001_A4_A04.fcs   8281  1285  6996.0\n",
       "0   Specimen_001_A5_A05.fcs   4207  1774  2433.0\n",
       "0   Specimen_001_A6_A06.fcs   7048  1152  5896.0\n",
       "0   Specimen_001_A7_A07.fcs   6725  1103  5622.0\n",
       "0   Specimen_001_A8_A08.fcs   6816  1069  5747.0\n",
       "0   Specimen_001_A9_A09.fcs   3246  1746  1500.0\n",
       "0  Specimen_001_B10_B10.fcs   5630  2489  3141.0\n",
       "0   Specimen_001_B1_B01.fcs   4562  1869  2693.0\n",
       "0   Specimen_001_B2_B02.fcs   5961  1189  4772.0\n",
       "0   Specimen_001_B3_B03.fcs   4094  1445  2649.0\n",
       "0   Specimen_001_B4_B04.fcs   6962  1142  5820.0\n",
       "0   Specimen_001_B5_B05.fcs   4488  1767  2721.0\n",
       "0   Specimen_001_B6_B06.fcs   7999  1343  6656.0\n",
       "0   Specimen_001_B7_B07.fcs   7485  1245  6240.0\n",
       "0   Specimen_001_B8_B08.fcs   7227  1057  6170.0\n",
       "0   Specimen_001_B9_B09.fcs   3958  2105  1853.0\n",
       "0  Specimen_001_C10_C10.fcs   5961  2711  3250.0\n",
       "0   Specimen_001_C1_C01.fcs   4151  1724  2427.0\n",
       "0   Specimen_001_C2_C02.fcs   6314  1205  5109.0\n",
       "0   Specimen_001_C3_C03.fcs   4652  1634  3018.0\n",
       "0   Specimen_001_C4_C04.fcs   8216  1179  7037.0\n",
       "0   Specimen_001_C5_C05.fcs   4719  1898  2821.0\n",
       "0   Specimen_001_C6_C06.fcs   7844  1206  6638.0\n",
       "0   Specimen_001_C7_C07.fcs   7859  1252  6607.0\n",
       "0   Specimen_001_C8_C08.fcs   8081  1172  6909.0\n",
       "0   Specimen_001_C9_C09.fcs   4376  2532  1844.0\n",
       "0  Specimen_001_D10_D10.fcs   7536  3447  4089.0\n",
       "0   Specimen_001_D1_D01.fcs   4609  1206  3403.0\n",
       "0   Specimen_001_D2_D02.fcs   9048  1624  7424.0\n",
       "0   Specimen_001_D3_D03.fcs   5479  2183  3296.0\n",
       "0   Specimen_001_D4_D04.fcs   9455  1964  7491.0\n",
       "0   Specimen_001_D5_D05.fcs   5403  2128  3275.0\n",
       "0   Specimen_001_D6_D06.fcs   9523  1604  7919.0\n",
       "0   Specimen_001_D7_D07.fcs   8189  1530  6659.0\n",
       "0   Specimen_001_D8_D08.fcs   9887  1625  8262.0\n",
       "0   Specimen_001_D9_D09.fcs   5441  3033  2408.0"
      ]
     },
     "execution_count": 15,
     "metadata": {},
     "output_type": "execute_result"
    }
   ],
   "source": [
    "datacounts"
   ]
  },
  {
   "cell_type": "code",
   "execution_count": null,
   "metadata": {
    "collapsed": true
   },
   "outputs": [],
   "source": []
  }
 ],
 "metadata": {
  "kernelspec": {
   "display_name": "Python 3",
   "language": "python",
   "name": "python3"
  },
  "language_info": {
   "codemirror_mode": {
    "name": "ipython",
    "version": 3
   },
   "file_extension": ".py",
   "mimetype": "text/x-python",
   "name": "python",
   "nbconvert_exporter": "python",
   "pygments_lexer": "ipython3",
   "version": "3.6.2"
  }
 },
 "nbformat": 4,
 "nbformat_minor": 0
}
